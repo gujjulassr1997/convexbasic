{
 "cells": [
  {
   "cell_type": "code",
   "execution_count": 3,
   "metadata": {},
   "outputs": [],
   "source": [
    "import cvxpy as cv\n",
    "import numpy as np\n",
    "import matplotlib"
   ]
  },
  {
   "cell_type": "code",
   "execution_count": 4,
   "metadata": {},
   "outputs": [],
   "source": [
    "#define Variables and constraints\n",
    "n=4\n",
    "x=cv.Variable((4,4))\n",
    "c=np.array([[0,2,1,0],[2,0,1,1],[1,1,0,1],[0,1,1,0]])\n",
    "constraints=[x>=0,x+cv.transpose(x)<=c,cv.sum(x[1:n-1,:],axis=1)==cv.sum(cv.transpose(x)[1:n-1,:],axis=1),cv.sum(x[:,0])==0,cv.sum(x[n-1,:])==0]"
   ]
  },
  {
   "cell_type": "code",
   "execution_count": 6,
   "metadata": {},
   "outputs": [],
   "source": [
    "#objective function\n",
    "objective=cv.Maximize(cv.sum(x[0,:]))"
   ]
  },
  {
   "cell_type": "code",
   "execution_count": 7,
   "metadata": {},
   "outputs": [],
   "source": [
    "problem=cv.Problem(objective,constraints)"
   ]
  },
  {
   "cell_type": "code",
   "execution_count": 8,
   "metadata": {},
   "outputs": [
    {
     "name": "stdout",
     "output_type": "stream",
     "text": [
      "maxflow 2.000000000035156\n",
      "optimizer = [[-1.11794888e-11  1.34157340e+00  6.58426602e-01  1.04779154e-11]\n",
      " [-8.64689711e-12  8.94734019e-14  5.02588193e-01  1.00000000e+00]\n",
      " [ 2.57433729e-11  1.61014795e-01  8.94734019e-14  1.00000000e+00]\n",
      " [-5.93137097e-12  5.87824662e-12 -5.68616735e-12  5.75960182e-12]]\n"
     ]
    }
   ],
   "source": [
    "print(\"maxflow\",problem.solve())\n",
    "print(\"optimizer =\",x.value)"
   ]
  },
  {
   "cell_type": "code",
   "execution_count": null,
   "metadata": {},
   "outputs": [],
   "source": []
  }
 ],
 "metadata": {
  "kernelspec": {
   "display_name": "convex",
   "language": "python",
   "name": "python3"
  },
  "language_info": {
   "codemirror_mode": {
    "name": "ipython",
    "version": 3
   },
   "file_extension": ".py",
   "mimetype": "text/x-python",
   "name": "python",
   "nbconvert_exporter": "python",
   "pygments_lexer": "ipython3",
   "version": "3.8.16"
  },
  "orig_nbformat": 4
 },
 "nbformat": 4,
 "nbformat_minor": 2
}
